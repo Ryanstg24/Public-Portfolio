{
 "cells": [
  {
   "cell_type": "markdown",
   "metadata": {},
   "source": [
    "# Treasure Hunt Game Notebook\n",
    "\n",
    "## Read and Review Your Starter Code\n",
    "The theme of this project is a popular treasure hunt game in which the player needs to find the treasure before the pirate does. While you will not be developing the entire game, you will write the part of the game that represents the intelligent agent, which is a pirate in this case. The pirate will try to find the optimal path to the treasure using deep Q-learning. \n",
    "\n",
    "You have been provided with two Python classes and this notebook to help you with this assignment. The first class, TreasureMaze.py, represents the environment, which includes a maze object defined as a matrix. The second class, GameExperience.py, stores the episodes – that is, all the states that come in between the initial state and the terminal state. This is later used by the agent for learning by experience, called \"exploration\". This notebook shows how to play a game. Your task is to complete the deep Q-learning implementation for which a skeleton implementation has been provided. The code blocks you will need to complete has #TODO as a header.\n",
    "\n",
    "First, read and review the next few code and instruction blocks to understand the code that you have been given."
   ]
  },
  {
   "cell_type": "code",
   "execution_count": 1,
   "metadata": {},
   "outputs": [
    {
     "name": "stderr",
     "output_type": "stream",
     "text": [
      "Using TensorFlow backend.\n"
     ]
    }
   ],
   "source": [
    "from __future__ import print_function\n",
    "import os, sys, time, datetime, json, random\n",
    "import numpy as np\n",
    "from keras.models import Sequential\n",
    "from keras.layers.core import Dense, Activation\n",
    "from keras.optimizers import SGD , Adam, RMSprop\n",
    "from keras.layers.advanced_activations import PReLU\n",
    "import matplotlib.pyplot as plt\n",
    "from TreasureMaze import TreasureMaze\n",
    "from GameExperience import GameExperience\n",
    "%matplotlib inline"
   ]
  },
  {
   "cell_type": "markdown",
   "metadata": {},
   "source": [
    "The following code block contains an 8x8 matrix that will be used as a maze object:"
   ]
  },
  {
   "cell_type": "code",
   "execution_count": 2,
   "metadata": {},
   "outputs": [],
   "source": [
    "maze = np.array([\n",
    "    [ 1.,  0.,  1.,  1.,  1.,  1.,  1.,  1.],\n",
    "    [ 1.,  0.,  1.,  1.,  1.,  0.,  1.,  1.],\n",
    "    [ 1.,  1.,  1.,  1.,  0.,  1.,  0.,  1.],\n",
    "    [ 1.,  1.,  1.,  0.,  1.,  1.,  1.,  1.],\n",
    "    [ 1.,  1.,  0.,  1.,  1.,  1.,  1.,  1.],\n",
    "    [ 1.,  1.,  1.,  0.,  1.,  0.,  0.,  0.],\n",
    "    [ 1.,  1.,  1.,  0.,  1.,  1.,  1.,  1.],\n",
    "    [ 1.,  1.,  1.,  1.,  0.,  1.,  1.,  1.]\n",
    "])"
   ]
  },
  {
   "cell_type": "markdown",
   "metadata": {},
   "source": [
    "This helper function allows a visual representation of the maze object:"
   ]
  },
  {
   "cell_type": "code",
   "execution_count": 3,
   "metadata": {},
   "outputs": [],
   "source": [
    "def show(qmaze):\n",
    "    plt.grid('on')\n",
    "    nrows, ncols = qmaze.maze.shape\n",
    "    ax = plt.gca()\n",
    "    ax.set_xticks(np.arange(0.5, nrows, 1))\n",
    "    ax.set_yticks(np.arange(0.5, ncols, 1))\n",
    "    ax.set_xticklabels([])\n",
    "    ax.set_yticklabels([])\n",
    "    canvas = np.copy(qmaze.maze)\n",
    "    for row,col in qmaze.visited:\n",
    "        canvas[row,col] = 0.6\n",
    "    pirate_row, pirate_col, _ = qmaze.state\n",
    "    canvas[pirate_row, pirate_col] = 0.3   # pirate cell\n",
    "    canvas[nrows-1, ncols-1] = 0.9 # treasure cell\n",
    "    img = plt.imshow(canvas, interpolation='none', cmap='gray')\n",
    "    return img"
   ]
  },
  {
   "cell_type": "markdown",
   "metadata": {},
   "source": [
    "The pirate agent can move in four directions: left, right, up, and down. \n",
    "\n",
    "While the agent primarily learns by experience through exploitation, often, the agent can choose to explore the environment to find previously undiscovered paths. This is called \"exploration\" and is defined by epsilon. This value is typically a lower value such as 0.1, which means for every ten attempts, the agent will attempt to learn by experience nine times and will randomly explore a new path one time. You are encouraged to try various values for the exploration factor and see how the algorithm performs."
   ]
  },
  {
   "cell_type": "code",
   "execution_count": 4,
   "metadata": {},
   "outputs": [],
   "source": [
    "LEFT = 0\n",
    "UP = 1\n",
    "RIGHT = 2\n",
    "DOWN = 3\n",
    "\n",
    "\n",
    "# Exploration factor\n",
    "epsilon = 0.1\n",
    "\n",
    "# Actions dictionary\n",
    "actions_dict = {\n",
    "    LEFT: 'left',\n",
    "    UP: 'up',\n",
    "    RIGHT: 'right',\n",
    "    DOWN: 'down',\n",
    "}\n",
    "\n",
    "num_actions = len(actions_dict)\n"
   ]
  },
  {
   "cell_type": "markdown",
   "metadata": {},
   "source": [
    "The sample code block and output below show creating a maze object and performing one action (DOWN), which returns the reward. The resulting updated environment is visualized."
   ]
  },
  {
   "cell_type": "code",
   "execution_count": 5,
   "metadata": {},
   "outputs": [
    {
     "name": "stdout",
     "output_type": "stream",
     "text": [
      "reward= -0.04\n"
     ]
    },
    {
     "data": {
      "text/plain": [
       "<matplotlib.image.AxesImage at 0x1e25dda3ac8>"
      ]
     },
     "execution_count": 5,
     "metadata": {},
     "output_type": "execute_result"
    },
    {
     "data": {
      "image/png": "[encoded data removed]",
      "text/plain": [
       "<Figure size 432x288 with 1 Axes>"
      ]
     },
     "metadata": {
      "needs_background": "light"
     },
     "output_type": "display_data"
    }
   ],
   "source": [
    "qmaze = TreasureMaze(maze)\n",
    "canvas, reward, game_over = qmaze.act(DOWN)\n",
    "print(\"reward=\", reward)\n",
    "show(qmaze)"
   ]
  },
  {
   "cell_type": "markdown",
   "metadata": {},
   "source": [
    "This function simulates a full game based on the provided trained model. The other parameters include the TreasureMaze object and the starting position of the pirate."
   ]
  },
  {
   "cell_type": "code",
   "execution_count": 6,
   "metadata": {},
   "outputs": [],
   "source": [
    "def play_game(model, qmaze, pirate_cell):\n",
    "    qmaze.reset(pirate_cell)\n",
    "    envstate = qmaze.observe()\n",
    "    while True:\n",
    "        prev_envstate = envstate\n",
    "        # get next action\n",
    "        q = model.predict(prev_envstate)\n",
    "        action = np.argmax(q[0])\n",
    "\n",
    "        # apply action, get rewards and new state\n",
    "        envstate, reward, game_status = qmaze.act(action)\n",
    "        if game_status == 'win':\n",
    "            return True\n",
    "        elif game_status == 'lose':\n",
    "            return False"
   ]
  },
  {
   "cell_type": "markdown",
   "metadata": {},
   "source": [
    "This function helps you to determine whether the pirate can win any game at all. If your maze is not well designed, the pirate may not win any game at all. In this case, your training would not yield any result. The provided maze in this notebook ensures that there is a path to win and you can run this method to check."
   ]
  },
  {
   "cell_type": "code",
   "execution_count": 7,
   "metadata": {},
   "outputs": [],
   "source": [
    "def completion_check(model, qmaze):\n",
    "    for cell in qmaze.free_cells:\n",
    "        if not qmaze.valid_actions(cell):\n",
    "            return False\n",
    "        if not play_game(model, qmaze, cell):\n",
    "            return False\n",
    "    return True"
   ]
  },
  {
   "cell_type": "markdown",
   "metadata": {},
   "source": [
    "The code you have been given in this block will build the neural network model. Review the code and note the number of layers, as well as the activation, optimizer, and loss functions that are used to train the model."
   ]
  },
  {
   "cell_type": "code",
   "execution_count": 8,
   "metadata": {},
   "outputs": [],
   "source": [
    "def build_model(maze):\n",
    "    model = Sequential()\n",
    "    model.add(Dense(maze.size, input_shape=(maze.size,)))\n",
    "    model.add(PReLU())\n",
    "    model.add(Dense(maze.size))\n",
    "    model.add(PReLU())\n",
    "    model.add(Dense(num_actions))\n",
    "    model.compile(optimizer='adam', loss='mse')\n",
    "    return model"
   ]
  },
  {
   "cell_type": "code",
   "execution_count": 9,
   "metadata": {},
   "outputs": [],
   "source": [
    "#To call in Q-Training block\n",
    "def format_time(seconds):\n",
    "    if seconds < 400:\n",
    "        s = float(seconds)\n",
    "        return \"%.1f seconds\" % (s,)\n",
    "    elif seconds < 4000:\n",
    "        m = seconds / 60.0\n",
    "        return \"%.2f minutes\" % (m,)\n",
    "    else:\n",
    "        h = seconds / 3600.0\n",
    "        return \"%.2f hours\" % (h,)\n"
   ]
  },
  {
   "cell_type": "markdown",
   "metadata": {},
   "source": [
    "# #TODO: Complete the Q-Training Algorithm Code Block\n",
    "\n",
    "This is your deep Q-learning implementation. The goal of your deep Q-learning implementation is to find the best possible navigation sequence that results in reaching the treasure cell while maximizing the reward. In your implementation, you need to determine the optimal number of epochs to achieve a 100% win rate.\n",
    "\n",
    "You will need to complete the section starting with #pseudocode. The pseudocode has been included for you."
   ]
  },
  {
   "cell_type": "code",
   "execution_count": 10,
   "metadata": {},
   "outputs": [],
   "source": [
    "def qtrain(model, maze, **opt):\n",
    "    # Initial exploration factor\n",
    "    initial_epsilon = 1.0\n",
    "    min_epsilon = 0.1  # Minimum exploration rate\n",
    "    decay_factor = 0.995  # Decay factor for exploration\n",
    "\n",
    "    # number of epochs\n",
    "    n_epoch = opt.get('n_epoch', 1000)\n",
    "\n",
    "    # maximum memory to store episodes\n",
    "    max_memory = opt.get('max_memory', 1000)\n",
    "\n",
    "    # maximum data size for training\n",
    "    data_size = opt.get('data_size', 32)  # Reduced data size\n",
    "\n",
    "    # start time\n",
    "    start_time = datetime.datetime.now()\n",
    "\n",
    "    # Construct environment/game from numpy array: maze\n",
    "    qmaze = TreasureMaze(maze)\n",
    "\n",
    "    # Initialize experience replay object\n",
    "    experience = GameExperience(model, max_memory=max_memory)\n",
    "    \n",
    "    win_history = []  # history of win/lose game\n",
    "    hsize = qmaze.maze.size // 2  # history window size\n",
    "    win_rate = 0.0\n",
    "\n",
    "    consecutive_wins = 0\n",
    "\n",
    "    for epoch in range(n_epoch):\n",
    "        # Decaying exploration rate\n",
    "        epsilon = max(min_epsilon, initial_epsilon * decay_factor ** epoch)\n",
    "        \n",
    "        # Agent_cell = randomly select a free cell\n",
    "        agent_cell = random.choice(qmaze.free_cells)\n",
    "        \n",
    "        # Reset the maze with agent set to above position\n",
    "        qmaze.reset(agent_cell)\n",
    "        envstate = qmaze.observe()\n",
    "        game_over = False\n",
    "        n_episodes = 0\n",
    "        loss = 0.0\n",
    "\n",
    "        while not game_over:\n",
    "            n_episodes += 1\n",
    "            # Previous environment state\n",
    "            previous_envstate = envstate\n",
    "            # Action = randomly choose action (left, right, up, down) either by exploration or by exploitation\n",
    "            if np.random.rand() < epsilon:\n",
    "                action = np.random.randint(0, 4)\n",
    "            else:\n",
    "                qvalues = model.predict(previous_envstate)\n",
    "                action = np.argmax(qvalues[0])\n",
    "            # Take action and get new state and reward\n",
    "            envstate, reward, game_status = qmaze.act(action)\n",
    "\n",
    "            if game_status == 'win':\n",
    "                win_history.append(1)\n",
    "                game_over = True\n",
    "            elif game_status == 'lose':\n",
    "                win_history.append(0)\n",
    "                game_over = True\n",
    "            else:\n",
    "                game_over = False\n",
    "\n",
    "            episode = [previous_envstate, action, reward, envstate, game_status]\n",
    "            # Store episode in Experience replay object\n",
    "            experience.remember(episode)\n",
    "            # Get training data\n",
    "            inputs, targets = experience.get_data(data_size=data_size)\n",
    "            # Train model\n",
    "            h = model.fit(inputs, targets, epochs=8, batch_size=16, verbose=0)\n",
    "            loss = model.evaluate(inputs, targets, verbose=0)\n",
    "\n",
    "        # Correctly update the win rate\n",
    "        if len(win_history) > hsize:\n",
    "            win_rate = sum(win_history[-hsize:]) / hsize\n",
    "\n",
    "        # Early stopping based on consecutive wins\n",
    "        if game_status == 'win':\n",
    "            consecutive_wins += 1\n",
    "        else:\n",
    "            consecutive_wins = 0\n",
    "\n",
    "        if consecutive_wins > 10:  # stop if we won 10 times consecutively\n",
    "            print(f\"Agent won 10 consecutive games at epoch {epoch}, stopping training.\")\n",
    "            break\n",
    "\n",
    "        # Printing stats\n",
    "        dt = datetime.datetime.now() - start_time\n",
    "        t = format_time(dt.total_seconds())\n",
    "        template = \"Epoch: {:03d}/{:d} | Loss: {:.4f} | Episodes: {:d} | Win count: {:d} | Win rate: {:.3f} | time: {}\"\n",
    "        print(template.format(epoch, n_epoch-1, loss, n_episodes, sum(win_history), win_rate, t))\n",
    "\n",
    "    # Determine the total time for training\n",
    "    dt = datetime.datetime.now() - start_time\n",
    "    seconds = dt.total_seconds()\n",
    "    t = format_time(seconds)\n",
    "    print(\"n_epoch: %d, max_mem: %d, data: %d, time: %s\" % (epoch, max_memory, data_size, t))\n",
    "    return seconds\n"
   ]
  },
  {
   "cell_type": "markdown",
   "metadata": {},
   "source": [
    "## Test Your Model\n",
    "\n",
    "Now we will start testing the deep Q-learning implementation. To begin, select **Cell**, then **Run All** from the menu bar. This will run your notebook. As it runs, you should see output begin to appear beneath the next few cells. The code below creates an instance of TreasureMaze."
   ]
  },
  {
   "cell_type": "code",
   "execution_count": 11,
   "metadata": {},
   "outputs": [
    {
     "data": {
      "text/plain": [
       "<matplotlib.image.AxesImage at 0x1e25ee32388>"
      ]
     },
     "execution_count": 11,
     "metadata": {},
     "output_type": "execute_result"
    },
    {
     "data": {
      "image/png": "[encoded data removed]",
      "text/plain": [
       "<Figure size 432x288 with 1 Axes>"
      ]
     },
     "metadata": {
      "needs_background": "light"
     },
     "output_type": "display_data"
    }
   ],
   "source": [
    "qmaze = TreasureMaze(maze)\n",
    "show(qmaze)"
   ]
  },
  {
   "cell_type": "markdown",
   "metadata": {},
   "source": [
    "In the next code block, you will build your model and train it using deep Q-learning. Note: This step takes several minutes to fully run."
   ]
  },
  {
   "cell_type": "code",
   "execution_count": 12,
   "metadata": {},
   "outputs": [
    {
     "name": "stdout",
     "output_type": "stream",
     "text": [
      "Epoch: 000/999 | Loss: 0.0001 | Episodes: 81 | Win count: 1 | Win rate: 0.000 | time: 11.8 seconds\n",
      "Epoch: 001/999 | Loss: 0.0008 | Episodes: 141 | Win count: 1 | Win rate: 0.000 | time: 32.7 seconds\n",
      "Epoch: 002/999 | Loss: 0.0005 | Episodes: 144 | Win count: 1 | Win rate: 0.000 | time: 52.4 seconds\n",
      "Epoch: 003/999 | Loss: 0.0008 | Episodes: 139 | Win count: 1 | Win rate: 0.000 | time: 71.5 seconds\n",
      "Epoch: 004/999 | Loss: 0.0002 | Episodes: 143 | Win count: 1 | Win rate: 0.000 | time: 91.0 seconds\n",
      "Epoch: 005/999 | Loss: 0.0006 | Episodes: 153 | Win count: 1 | Win rate: 0.000 | time: 112.0 seconds\n",
      "Epoch: 006/999 | Loss: 0.0008 | Episodes: 8 | Win count: 2 | Win rate: 0.000 | time: 113.0 seconds\n",
      "Epoch: 007/999 | Loss: 0.0008 | Episodes: 143 | Win count: 2 | Win rate: 0.000 | time: 133.2 seconds\n",
      "Epoch: 008/999 | Loss: 0.0011 | Episodes: 150 | Win count: 2 | Win rate: 0.000 | time: 155.3 seconds\n",
      "Epoch: 009/999 | Loss: 0.0014 | Episodes: 140 | Win count: 2 | Win rate: 0.000 | time: 174.5 seconds\n",
      "Epoch: 010/999 | Loss: 0.0011 | Episodes: 148 | Win count: 2 | Win rate: 0.000 | time: 196.5 seconds\n",
      "Epoch: 011/999 | Loss: 0.0007 | Episodes: 18 | Win count: 3 | Win rate: 0.000 | time: 199.1 seconds\n",
      "Epoch: 012/999 | Loss: 0.0015 | Episodes: 91 | Win count: 4 | Win rate: 0.000 | time: 213.0 seconds\n",
      "Epoch: 013/999 | Loss: 0.0006 | Episodes: 149 | Win count: 4 | Win rate: 0.000 | time: 235.9 seconds\n",
      "Epoch: 014/999 | Loss: 0.0008 | Episodes: 144 | Win count: 4 | Win rate: 0.000 | time: 256.8 seconds\n",
      "Epoch: 015/999 | Loss: 0.0007 | Episodes: 146 | Win count: 4 | Win rate: 0.000 | time: 277.1 seconds\n",
      "Epoch: 016/999 | Loss: 0.0010 | Episodes: 149 | Win count: 4 | Win rate: 0.000 | time: 297.6 seconds\n",
      "Epoch: 017/999 | Loss: 0.0008 | Episodes: 139 | Win count: 4 | Win rate: 0.000 | time: 317.3 seconds\n",
      "Epoch: 018/999 | Loss: 0.0008 | Episodes: 150 | Win count: 4 | Win rate: 0.000 | time: 339.5 seconds\n",
      "Epoch: 019/999 | Loss: 0.0016 | Episodes: 150 | Win count: 4 | Win rate: 0.000 | time: 359.1 seconds\n",
      "Epoch: 020/999 | Loss: 0.0011 | Episodes: 151 | Win count: 4 | Win rate: 0.000 | time: 382.5 seconds\n",
      "Epoch: 021/999 | Loss: 0.0010 | Episodes: 141 | Win count: 4 | Win rate: 0.000 | time: 6.74 minutes\n",
      "Epoch: 022/999 | Loss: 0.0012 | Episodes: 138 | Win count: 4 | Win rate: 0.000 | time: 7.09 minutes\n",
      "Epoch: 023/999 | Loss: 0.0009 | Episodes: 139 | Win count: 4 | Win rate: 0.000 | time: 7.42 minutes\n",
      "Epoch: 024/999 | Loss: 0.0002 | Episodes: 1 | Win count: 5 | Win rate: 0.000 | time: 7.43 minutes\n",
      "Epoch: 025/999 | Loss: 0.0008 | Episodes: 82 | Win count: 6 | Win rate: 0.000 | time: 7.63 minutes\n",
      "Epoch: 026/999 | Loss: 0.0007 | Episodes: 149 | Win count: 6 | Win rate: 0.000 | time: 7.99 minutes\n",
      "Epoch: 027/999 | Loss: 0.0012 | Episodes: 139 | Win count: 6 | Win rate: 0.000 | time: 8.34 minutes\n",
      "Epoch: 028/999 | Loss: 0.0010 | Episodes: 146 | Win count: 6 | Win rate: 0.000 | time: 8.69 minutes\n",
      "Epoch: 029/999 | Loss: 0.0006 | Episodes: 117 | Win count: 7 | Win rate: 0.000 | time: 8.95 minutes\n",
      "Epoch: 030/999 | Loss: 0.0008 | Episodes: 10 | Win count: 8 | Win rate: 0.000 | time: 8.98 minutes\n",
      "Epoch: 031/999 | Loss: 0.0007 | Episodes: 143 | Win count: 8 | Win rate: 0.000 | time: 9.31 minutes\n",
      "Epoch: 032/999 | Loss: 0.0005 | Episodes: 143 | Win count: 8 | Win rate: 0.219 | time: 9.68 minutes\n",
      "Epoch: 033/999 | Loss: 0.0013 | Episodes: 143 | Win count: 8 | Win rate: 0.219 | time: 10.01 minutes\n",
      "Epoch: 034/999 | Loss: 0.0039 | Episodes: 41 | Win count: 9 | Win rate: 0.250 | time: 10.11 minutes\n",
      "Epoch: 035/999 | Loss: 0.0010 | Episodes: 30 | Win count: 10 | Win rate: 0.281 | time: 10.18 minutes\n",
      "Epoch: 036/999 | Loss: 0.0012 | Episodes: 143 | Win count: 10 | Win rate: 0.281 | time: 10.53 minutes\n",
      "Epoch: 037/999 | Loss: 0.0008 | Episodes: 55 | Win count: 11 | Win rate: 0.312 | time: 10.66 minutes\n",
      "Epoch: 038/999 | Loss: 0.0006 | Episodes: 46 | Win count: 12 | Win rate: 0.312 | time: 10.77 minutes\n",
      "Epoch: 039/999 | Loss: 0.0013 | Episodes: 139 | Win count: 12 | Win rate: 0.312 | time: 11.09 minutes\n",
      "Epoch: 040/999 | Loss: 0.0012 | Episodes: 144 | Win count: 12 | Win rate: 0.312 | time: 11.46 minutes\n",
      "Epoch: 041/999 | Loss: 0.0009 | Episodes: 6 | Win count: 13 | Win rate: 0.344 | time: 11.48 minutes\n",
      "Epoch: 042/999 | Loss: 0.0006 | Episodes: 141 | Win count: 13 | Win rate: 0.344 | time: 11.84 minutes\n",
      "Epoch: 043/999 | Loss: 0.0007 | Episodes: 144 | Win count: 13 | Win rate: 0.312 | time: 12.20 minutes\n",
      "Epoch: 044/999 | Loss: 0.0013 | Episodes: 160 | Win count: 13 | Win rate: 0.281 | time: 12.58 minutes\n",
      "Epoch: 045/999 | Loss: 0.0008 | Episodes: 147 | Win count: 13 | Win rate: 0.281 | time: 12.98 minutes\n",
      "Epoch: 046/999 | Loss: 0.0008 | Episodes: 144 | Win count: 13 | Win rate: 0.281 | time: 13.34 minutes\n",
      "Epoch: 047/999 | Loss: 0.0012 | Episodes: 92 | Win count: 14 | Win rate: 0.312 | time: 13.59 minutes\n",
      "Epoch: 048/999 | Loss: 0.0004 | Episodes: 33 | Win count: 15 | Win rate: 0.344 | time: 13.67 minutes\n",
      "Epoch: 049/999 | Loss: 0.0004 | Episodes: 121 | Win count: 16 | Win rate: 0.375 | time: 13.97 minutes\n",
      "Epoch: 050/999 | Loss: 0.0006 | Episodes: 138 | Win count: 16 | Win rate: 0.375 | time: 14.32 minutes\n",
      "Epoch: 051/999 | Loss: 0.0008 | Episodes: 144 | Win count: 16 | Win rate: 0.375 | time: 14.67 minutes\n",
      "Epoch: 052/999 | Loss: 0.0002 | Episodes: 109 | Win count: 17 | Win rate: 0.406 | time: 14.94 minutes\n",
      "Epoch: 053/999 | Loss: 0.0008 | Episodes: 148 | Win count: 18 | Win rate: 0.438 | time: 15.31 minutes\n",
      "Epoch: 054/999 | Loss: 0.0011 | Episodes: 61 | Win count: 19 | Win rate: 0.469 | time: 15.47 minutes\n",
      "Epoch: 055/999 | Loss: 0.0002 | Episodes: 84 | Win count: 20 | Win rate: 0.500 | time: 15.71 minutes\n",
      "Epoch: 056/999 | Loss: 0.0010 | Episodes: 147 | Win count: 20 | Win rate: 0.469 | time: 16.15 minutes\n",
      "Epoch: 057/999 | Loss: 0.0016 | Episodes: 34 | Win count: 21 | Win rate: 0.469 | time: 16.25 minutes\n",
      "Epoch: 058/999 | Loss: 0.0006 | Episodes: 141 | Win count: 21 | Win rate: 0.469 | time: 16.67 minutes\n",
      "Epoch: 059/999 | Loss: 0.0005 | Episodes: 142 | Win count: 21 | Win rate: 0.469 | time: 17.10 minutes\n",
      "Epoch: 060/999 | Loss: 0.0012 | Episodes: 42 | Win count: 22 | Win rate: 0.500 | time: 17.22 minutes\n",
      "Epoch: 061/999 | Loss: 0.0009 | Episodes: 141 | Win count: 23 | Win rate: 0.500 | time: 17.66 minutes\n",
      "Epoch: 062/999 | Loss: 0.0009 | Episodes: 28 | Win count: 24 | Win rate: 0.500 | time: 17.75 minutes\n",
      "Epoch: 063/999 | Loss: 0.0008 | Episodes: 11 | Win count: 25 | Win rate: 0.531 | time: 17.79 minutes\n",
      "Epoch: 064/999 | Loss: 0.0009 | Episodes: 101 | Win count: 26 | Win rate: 0.562 | time: 18.09 minutes\n",
      "Epoch: 065/999 | Loss: 0.0011 | Episodes: 116 | Win count: 27 | Win rate: 0.594 | time: 18.45 minutes\n",
      "Epoch: 066/999 | Loss: 0.0009 | Episodes: 146 | Win count: 28 | Win rate: 0.594 | time: 18.89 minutes\n",
      "Epoch: 067/999 | Loss: 0.0012 | Episodes: 34 | Win count: 29 | Win rate: 0.594 | time: 18.98 minutes\n",
      "Epoch: 068/999 | Loss: 0.0015 | Episodes: 32 | Win count: 30 | Win rate: 0.625 | time: 19.08 minutes\n",
      "Epoch: 069/999 | Loss: 0.0009 | Episodes: 156 | Win count: 30 | Win rate: 0.594 | time: 19.54 minutes\n",
      "Epoch: 070/999 | Loss: 0.0010 | Episodes: 118 | Win count: 31 | Win rate: 0.594 | time: 19.89 minutes\n",
      "Epoch: 071/999 | Loss: 0.0017 | Episodes: 1 | Win count: 32 | Win rate: 0.625 | time: 19.89 minutes\n",
      "Epoch: 072/999 | Loss: 0.0008 | Episodes: 155 | Win count: 32 | Win rate: 0.625 | time: 20.34 minutes\n",
      "Epoch: 073/999 | Loss: 0.0011 | Episodes: 20 | Win count: 33 | Win rate: 0.625 | time: 20.41 minutes\n",
      "Epoch: 074/999 | Loss: 0.0011 | Episodes: 54 | Win count: 34 | Win rate: 0.656 | time: 20.57 minutes\n",
      "Epoch: 075/999 | Loss: 0.0011 | Episodes: 127 | Win count: 35 | Win rate: 0.688 | time: 20.96 minutes\n",
      "Epoch: 076/999 | Loss: 0.0015 | Episodes: 65 | Win count: 36 | Win rate: 0.719 | time: 21.16 minutes\n",
      "Epoch: 077/999 | Loss: 0.0008 | Episodes: 4 | Win count: 37 | Win rate: 0.750 | time: 21.18 minutes\n",
      "Epoch: 078/999 | Loss: 0.0008 | Episodes: 134 | Win count: 38 | Win rate: 0.781 | time: 21.57 minutes\n",
      "Epoch: 079/999 | Loss: 0.0013 | Episodes: 5 | Win count: 39 | Win rate: 0.781 | time: 21.58 minutes\n",
      "Epoch: 080/999 | Loss: 0.0010 | Episodes: 63 | Win count: 40 | Win rate: 0.781 | time: 21.77 minutes\n",
      "Epoch: 081/999 | Loss: 0.0013 | Episodes: 146 | Win count: 40 | Win rate: 0.750 | time: 22.20 minutes\n",
      "Epoch: 082/999 | Loss: 0.0011 | Episodes: 19 | Win count: 41 | Win rate: 0.781 | time: 22.26 minutes\n",
      "Epoch: 083/999 | Loss: 0.0010 | Episodes: 141 | Win count: 41 | Win rate: 0.781 | time: 22.68 minutes\n",
      "Epoch: 084/999 | Loss: 0.0008 | Episodes: 7 | Win count: 42 | Win rate: 0.781 | time: 22.70 minutes\n",
      "Epoch: 085/999 | Loss: 0.0006 | Episodes: 149 | Win count: 42 | Win rate: 0.750 | time: 23.12 minutes\n",
      "Epoch: 086/999 | Loss: 0.0009 | Episodes: 75 | Win count: 43 | Win rate: 0.750 | time: 23.32 minutes\n",
      "Epoch: 087/999 | Loss: 0.0013 | Episodes: 146 | Win count: 44 | Win rate: 0.750 | time: 23.74 minutes\n",
      "Epoch: 088/999 | Loss: 0.0007 | Episodes: 155 | Win count: 44 | Win rate: 0.750 | time: 24.19 minutes\n",
      "Epoch: 089/999 | Loss: 0.0011 | Episodes: 23 | Win count: 45 | Win rate: 0.750 | time: 24.25 minutes\n",
      "Epoch: 090/999 | Loss: 0.0008 | Episodes: 88 | Win count: 46 | Win rate: 0.781 | time: 24.50 minutes\n",
      "Epoch: 091/999 | Loss: 0.0013 | Episodes: 74 | Win count: 47 | Win rate: 0.812 | time: 24.70 minutes\n",
      "Epoch: 092/999 | Loss: 0.0011 | Episodes: 155 | Win count: 47 | Win rate: 0.781 | time: 25.15 minutes\n",
      "Epoch: 093/999 | Loss: 0.0010 | Episodes: 123 | Win count: 48 | Win rate: 0.781 | time: 25.51 minutes\n",
      "Epoch: 094/999 | Loss: 0.0010 | Episodes: 16 | Win count: 49 | Win rate: 0.781 | time: 25.56 minutes\n",
      "Epoch: 095/999 | Loss: 0.0018 | Episodes: 13 | Win count: 50 | Win rate: 0.781 | time: 25.60 minutes\n",
      "Epoch: 096/999 | Loss: 0.0008 | Episodes: 136 | Win count: 50 | Win rate: 0.750 | time: 25.98 minutes\n",
      "Epoch: 097/999 | Loss: 0.0010 | Episodes: 47 | Win count: 51 | Win rate: 0.750 | time: 26.12 minutes\n",
      "Epoch: 098/999 | Loss: 0.0011 | Episodes: 21 | Win count: 52 | Win rate: 0.750 | time: 26.19 minutes\n",
      "Epoch: 099/999 | Loss: 0.0011 | Episodes: 52 | Win count: 53 | Win rate: 0.750 | time: 26.34 minutes\n",
      "Epoch: 100/999 | Loss: 0.0007 | Episodes: 34 | Win count: 54 | Win rate: 0.750 | time: 26.44 minutes\n",
      "Epoch: 101/999 | Loss: 0.0016 | Episodes: 19 | Win count: 55 | Win rate: 0.781 | time: 26.49 minutes\n",
      "Epoch: 102/999 | Loss: 0.0012 | Episodes: 142 | Win count: 55 | Win rate: 0.750 | time: 26.91 minutes\n",
      "Epoch: 103/999 | Loss: 0.0010 | Episodes: 64 | Win count: 56 | Win rate: 0.750 | time: 27.09 minutes\n",
      "Epoch: 104/999 | Loss: 0.0014 | Episodes: 80 | Win count: 57 | Win rate: 0.781 | time: 27.33 minutes\n",
      "Epoch: 105/999 | Loss: 0.0014 | Episodes: 57 | Win count: 58 | Win rate: 0.781 | time: 27.50 minutes\n",
      "Epoch: 106/999 | Loss: 0.0017 | Episodes: 81 | Win count: 59 | Win rate: 0.781 | time: 27.73 minutes\n",
      "Epoch: 107/999 | Loss: 0.0011 | Episodes: 4 | Win count: 60 | Win rate: 0.781 | time: 27.75 minutes\n",
      "Epoch: 108/999 | Loss: 0.0006 | Episodes: 151 | Win count: 60 | Win rate: 0.750 | time: 28.16 minutes\n",
      "Epoch: 109/999 | Loss: 0.0013 | Episodes: 83 | Win count: 61 | Win rate: 0.750 | time: 28.39 minutes\n",
      "Epoch: 110/999 | Loss: 0.0022 | Episodes: 37 | Win count: 62 | Win rate: 0.750 | time: 28.49 minutes\n",
      "Epoch: 111/999 | Loss: 0.0009 | Episodes: 59 | Win count: 63 | Win rate: 0.750 | time: 28.65 minutes\n",
      "Epoch: 112/999 | Loss: 0.0010 | Episodes: 66 | Win count: 64 | Win rate: 0.750 | time: 28.82 minutes\n",
      "Epoch: 113/999 | Loss: 0.0008 | Episodes: 144 | Win count: 64 | Win rate: 0.750 | time: 29.22 minutes\n",
      "Epoch: 114/999 | Loss: 0.0016 | Episodes: 14 | Win count: 65 | Win rate: 0.750 | time: 29.25 minutes\n",
      "Epoch: 115/999 | Loss: 0.0010 | Episodes: 25 | Win count: 66 | Win rate: 0.781 | time: 29.32 minutes\n",
      "Epoch: 116/999 | Loss: 0.0007 | Episodes: 42 | Win count: 67 | Win rate: 0.781 | time: 29.45 minutes\n",
      "Epoch: 117/999 | Loss: 0.0012 | Episodes: 137 | Win count: 68 | Win rate: 0.812 | time: 29.81 minutes\n",
      "Epoch: 118/999 | Loss: 0.0007 | Episodes: 38 | Win count: 69 | Win rate: 0.812 | time: 29.92 minutes\n",
      "Epoch: 119/999 | Loss: 0.0010 | Episodes: 51 | Win count: 70 | Win rate: 0.812 | time: 30.05 minutes\n",
      "Epoch: 120/999 | Loss: 0.0014 | Episodes: 21 | Win count: 71 | Win rate: 0.844 | time: 30.11 minutes\n",
      "Epoch: 121/999 | Loss: 0.0007 | Episodes: 89 | Win count: 72 | Win rate: 0.844 | time: 30.35 minutes\n",
      "Epoch: 122/999 | Loss: 0.0008 | Episodes: 91 | Win count: 73 | Win rate: 0.844 | time: 30.63 minutes\n",
      "Epoch: 123/999 | Loss: 0.0011 | Episodes: 46 | Win count: 74 | Win rate: 0.844 | time: 30.76 minutes\n",
      "Agent won 10 consecutive games at epoch 124, stopping training.\n",
      "n_epoch: 124, max_mem: 512, data: 32, time: 30.95 minutes\n"
     ]
    },
    {
     "data": {
      "text/plain": [
       "1856.729408"
      ]
     },
     "execution_count": 12,
     "metadata": {},
     "output_type": "execute_result"
    }
   ],
   "source": [
    "model = build_model(maze)\n",
    "qtrain(model, maze, epochs=1000, max_memory=8*maze.size, data_size=32)"
   ]
  },
  {
   "cell_type": "markdown",
   "metadata": {},
   "source": [
    "This cell will check to see if the model passes the completion check. Note: This could take several minutes."
   ]
  },
  {
   "cell_type": "code",
   "execution_count": 13,
   "metadata": {},
   "outputs": [
    {
     "data": {
      "text/plain": [
       "<matplotlib.image.AxesImage at 0x1e2656698c8>"
      ]
     },
     "execution_count": 13,
     "metadata": {},
     "output_type": "execute_result"
    },
    {
     "data": {
      "image/png": "[encoded data removed]",
      "text/plain": [
       "<Figure size 432x288 with 1 Axes>"
      ]
     },
     "metadata": {
      "needs_background": "light"
     },
     "output_type": "display_data"
    }
   ],
   "source": [
    "completion_check(model, qmaze)\n",
    "show(qmaze)"
   ]
  },
  {
   "cell_type": "markdown",
   "metadata": {},
   "source": [
    "This cell will test your model for one game. It will start the pirate at the top-left corner and run play_game. The agent should find a path from the starting position to the target (treasure). The treasure is located in the bottom-right corner."
   ]
  },
  {
   "cell_type": "code",
   "execution_count": 14,
   "metadata": {},
   "outputs": [
    {
     "data": {
      "text/plain": [
       "<matplotlib.image.AxesImage at 0x1e265841c08>"
      ]
     },
     "execution_count": 14,
     "metadata": {},
     "output_type": "execute_result"
    },
    {
     "data": {
      "image/png": "[encoded data removed]",
      "text/plain": [
       "<Figure size 432x288 with 1 Axes>"
      ]
     },
     "metadata": {
      "needs_background": "light"
     },
     "output_type": "display_data"
    }
   ],
   "source": [
    "pirate_start = (0, 0)\n",
    "play_game(model, qmaze, pirate_start)\n",
    "show(qmaze)"
   ]
  },
  {
   "cell_type": "markdown",
   "metadata": {},
   "source": [
    "## Save and Submit Your Work\n",
    "After you have finished creating the code for your notebook, save your work. Make sure that your notebook contains your name in the filename (e.g. Doe_Jane_ProjectTwo.ipynb). This will help your instructor access and grade your work easily. Download a copy of your IPYNB file and submit it to Brightspace. Refer to the Jupyter Notebook in Apporto Tutorial if you need help with these tasks."
   ]
  }
 ],
 "metadata": {
  "kernelspec": {
   "display_name": "Python 3",
   "language": "python",
   "name": "python3"
  },
  "language_info": {
   "codemirror_mode": {
    "name": "ipython",
    "version": 3
   },
   "file_extension": ".py",
   "mimetype": "text/x-python",
   "name": "python",
   "nbconvert_exporter": "python",
   "pygments_lexer": "ipython3",
   "version": "3.7.4"
  }
 },
 "nbformat": 4,
 "nbformat_minor": 2
}
